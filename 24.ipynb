{
 "cells": [
  {
   "cell_type": "code",
   "execution_count": 31,
   "id": "f58ea436-dca2-4c0c-ae8b-5300f2adb610",
   "metadata": {},
   "outputs": [
    {
     "name": "stdout",
     "output_type": "stream",
     "text": [
      "2.2.2\n"
     ]
    }
   ],
   "source": [
    "import pandas as pd\n",
    "\n",
    "print(pd.__version__)"
   ]
  },
  {
   "cell_type": "code",
   "execution_count": 32,
   "id": "c007ae62-f391-4c4a-b94b-28259e717924",
   "metadata": {},
   "outputs": [
    {
     "data": {
      "text/plain": [
       "0   2020-06-09 06:18:41\n",
       "1   2020-06-09 07:18:41\n",
       "2   2020-06-09 08:18:41\n",
       "3   2020-06-09 09:18:41\n",
       "4   2020-06-09 10:18:41\n",
       "dtype: datetime64[ns]"
      ]
     },
     "execution_count": 32,
     "metadata": {},
     "output_type": "execute_result"
    }
   ],
   "source": [
    "s = pd.Series(range(1591683521, 1592201921, 3600))\n",
    "s = pd.to_datetime(s, unit='s')\n",
    "s.head()"
   ]
  },
  {
   "cell_type": "code",
   "execution_count": 33,
   "id": "06950944-b3fd-43b6-abf2-080daa811bc8",
   "metadata": {},
   "outputs": [
    {
     "data": {
      "text/plain": [
       "0   2020-06-09 06:18:41+00:00\n",
       "1   2020-06-09 07:18:41+00:00\n",
       "2   2020-06-09 08:18:41+00:00\n",
       "3   2020-06-09 09:18:41+00:00\n",
       "4   2020-06-09 10:18:41+00:00\n",
       "dtype: datetime64[ns, UTC]"
      ]
     },
     "execution_count": 33,
     "metadata": {},
     "output_type": "execute_result"
    }
   ],
   "source": [
    "s = s.dt.tz_localize('UTC')\n",
    "s.head()"
   ]
  },
  {
   "cell_type": "code",
   "execution_count": 34,
   "id": "d924236d-d0bd-4b19-9b5d-c5570a636b81",
   "metadata": {},
   "outputs": [
    {
     "data": {
      "text/plain": [
       "0   2020-06-09 13:18:41+07:00\n",
       "1   2020-06-09 14:18:41+07:00\n",
       "2   2020-06-09 15:18:41+07:00\n",
       "3   2020-06-09 16:18:41+07:00\n",
       "4   2020-06-09 17:18:41+07:00\n",
       "dtype: datetime64[ns, Asia/Jakarta]"
      ]
     },
     "execution_count": 34,
     "metadata": {},
     "output_type": "execute_result"
    }
   ],
   "source": [
    "s = s.dt.tz_convert('Asia/Jakarta')\n",
    "s.head()"
   ]
  },
  {
   "cell_type": "code",
   "execution_count": 35,
   "id": "6d006dbb-a149-4687-a2fe-fac20b7048c6",
   "metadata": {},
   "outputs": [
    {
     "data": {
      "text/plain": [
       "0   2020-06-09 16:18:41+10:00\n",
       "1   2020-06-09 17:18:41+10:00\n",
       "2   2020-06-09 18:18:41+10:00\n",
       "3   2020-06-09 19:18:41+10:00\n",
       "4   2020-06-09 20:18:41+10:00\n",
       "dtype: datetime64[ns, Australia/Hobart]"
      ]
     },
     "execution_count": 35,
     "metadata": {},
     "output_type": "execute_result"
    }
   ],
   "source": [
    "s = s.dt.tz_convert('Australia/Hobart')\n",
    "s.head()"
   ]
  },
  {
   "cell_type": "code",
   "execution_count": null,
   "id": "6e62a99e-a773-4c65-bc4f-2285240e19ea",
   "metadata": {},
   "outputs": [],
   "source": []
  }
 ],
 "metadata": {
  "kernelspec": {
   "display_name": "Python 3 (ipykernel)",
   "language": "python",
   "name": "python3"
  },
  "language_info": {
   "codemirror_mode": {
    "name": "ipython",
    "version": 3
   },
   "file_extension": ".py",
   "mimetype": "text/x-python",
   "name": "python",
   "nbconvert_exporter": "python",
   "pygments_lexer": "ipython3",
   "version": "3.12.7"
  }
 },
 "nbformat": 4,
 "nbformat_minor": 5
}
